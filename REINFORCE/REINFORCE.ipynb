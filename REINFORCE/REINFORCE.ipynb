{
 "cells": [
  {
   "cell_type": "code",
   "execution_count": 107,
   "metadata": {
    "id": "oq2uBLgkNY09"
   },
   "outputs": [],
   "source": [
    "import gym\n",
    "import haiku as hk\n",
    "import jax\n",
    "import jax.numpy as jnp\n",
    "import jax.nn as nn\n",
    "import jax.random as random\n",
    "import numpy as np\n",
    "import optax\n",
    "import matplotlib.pyplot as plt\n",
    "import pickle as pkl\n",
    "import sys\n",
    "from jax import tree_map\n",
    "from jax import grad, value_and_grad\n",
    "from jax import lax\n",
    "from jax import jit\n",
    "from tqdm import tqdm\n",
    "from collections import namedtuple\n",
    "%matplotlib inline "
   ]
  },
  {
   "cell_type": "code",
   "execution_count": 108,
   "metadata": {
    "id": "HjX9aTaFQa0x"
   },
   "outputs": [],
   "source": [
    "def pol_model(observation):\n",
    "  mlp = hk.Sequential(\n",
    "      [\n",
    "       hk.Linear(32), nn.relu,\n",
    "       hk.Linear(2)\n",
    "      ]\n",
    "  )\n",
    "  return mlp(observation)"
   ]
  },
  {
   "cell_type": "code",
   "execution_count": 109,
   "metadata": {
    "id": "Mnlj4GQQYZmG"
   },
   "outputs": [],
   "source": [
    "\n",
    "def val_model(observation):\n",
    "  mlp = hk.Sequential(\n",
    "      [\n",
    "       hk.Linear(64), nn.relu,\n",
    "       hk.Linear(1)\n",
    "      ]\n",
    "  )\n",
    "  return mlp(observation)"
   ]
  },
  {
   "cell_type": "code",
   "execution_count": 120,
   "metadata": {
    "id": "UOYKj9PgHC2c"
   },
   "outputs": [],
   "source": [
    "def train():\n",
    "  \n",
    "  # Define training configurations and problem parameters\n",
    "  NUM_EPISODE = 1000\n",
    "  GAMMA = 0.99\n",
    "  RECORD_INTERVAL = 10\n",
    "  Record = namedtuple('Record',['r','discount','log_pol_grad','val_pred','val_grad'])\n",
    "  \n",
    "  # random key generator\n",
    "  rng = hk.PRNGSequence(0)\n",
    "  \n",
    "  # actor and critic networks\n",
    "  pol_net = hk.without_apply_rng(hk.transform(pol_model))\n",
    "  val_net = hk.without_apply_rng(hk.transform(val_model))\n",
    "\n",
    "  dummy_obs = jnp.array([0,0,0,0],dtype=jnp.float32)\n",
    "\n",
    "  pol_params = pol_net.init(rng.next(), dummy_obs)\n",
    "  val_params = val_net.init(rng.next(), dummy_obs)\n",
    "\n",
    "  # make optimizers\n",
    "  pol_opt = optax.adam(1e-5)\n",
    "  val_opt = optax.adam(1e-4)\n",
    "\n",
    "  pol_opt_state = pol_opt.init(pol_params)\n",
    "  val_opt_state = val_opt.init(val_params)\n",
    "\n",
    "  @jit\n",
    "  def act(params, obs, rand):\n",
    "    logits = pol_net.apply(params, obs)\n",
    "    return random.categorical(rand, logits)\n",
    "  \n",
    "  # policy related functions\n",
    "  @jit\n",
    "  def pol_obj(params, obs, action, tde, discount):\n",
    "    logits = pol_net.apply(params, obs)\n",
    "    return discount*tde*nn.log_softmax(logits)[action]\n",
    "  \n",
    "  @jit\n",
    "  def update_pol(params, opt_state, gradient):\n",
    "    updates, new_opt_state = pol_opt.update(gradient, opt_state)\n",
    "    new_params = optax.apply_updates(params, updates)\n",
    "    return new_params, new_opt_state\n",
    "  \n",
    "#   @jit\n",
    "#   def zero_tree(tree):\n",
    "#     return tree_map(lambda x: 0*x, tree)\n",
    "  \n",
    "  \n",
    "  # value function related functions\n",
    "  @jit\n",
    "  def val_obj(params, obs, target):\n",
    "    v_t = val_net.apply(params, obs)\n",
    "    tde = target - \n",
    "    return v_t[0]\n",
    "  \n",
    "  \n",
    "  @jit\n",
    "  def update_val_fn(params, opt_state, gradient, tde):\n",
    "    gradient = tree_map(lambda g: tde*g, gradient)\n",
    "    updates, new_opt_state = val_opt.update(gradient, opt_state)\n",
    "    new_params = optax.apply_updates(params, updates)\n",
    "    return new_params, new_opt_state\n",
    "\n",
    "  \n",
    "  # environment\n",
    "  env = gym.make('CartPole-v0')\n",
    "  env.seed(1)\n",
    "  \n",
    "  # record containers\n",
    "  episode_lengths = []\n",
    "  avg_tde = []\n",
    "\n",
    "  for eps in tqdm(range(NUM_EPISODE)):\n",
    "    # initialization for each episode\n",
    "    o_t = jnp.array(env.reset(), dtype=jnp.float32)\n",
    "    done = False\n",
    "    I = 1.0\n",
    "    cumulative_tde = 0\n",
    "    num_step = 0\n",
    "    trajectory = []\n",
    "    # interact with the environment\n",
    "    while not done:\n",
    "      likelihood_grad, action = grad(pol, has_aux=True)(pol_params, o_t, rng.next())\n",
    "      prediction, val_gradient = value_and_grad(val_fn)(val_params, o_t)\n",
    "\n",
    "      num_step += 1\n",
    "\n",
    "      o_tp1, reward, done, _ = env.step(action.item())\n",
    "      o_tp1 = jnp.array(o_tp1, dtype=jnp.float32)\n",
    "      \n",
    "      trajectory.append(Record(reward, I, likelihood_grad, prediction.item(), val_gradient))\n",
    "      \n",
    "      I = GAMMA*I\n",
    "      o_t = o_tp1\n",
    "    \n",
    "    \n",
    "    trajectory.reverse()\n",
    "    ret = 0.0\n",
    "    for record in trajectory:\n",
    "      ret = GAMMA*ret + record.r\n",
    "      tde = ret - record.val_pred\n",
    "      val_params, val_opt_state = update_val_fn(val_params, val_opt_state, record.val_grad, tde)\n",
    "      pol_params, pol_opt_state = update_pol(pol_params, pol_opt_state, record.log_pol_grad, tde, record.discount)\n",
    "      cumulative_tde += abs(tde)\n",
    "    \n",
    "    \n",
    "    # recording\n",
    "    if eps % RECORD_INTERVAL == 0:\n",
    "      episode_lengths.append(num_step)\n",
    "      avg_tde.append(cumulative_tde/num_step)\n",
    "    \n",
    "  # save models\n",
    "  with open('pol_param.pickle','wb') as fp:\n",
    "    pkl.dump(pol_params, fp)\n",
    "\n",
    "  with open('val_param.pickle','wb') as fp:\n",
    "    pkl.dump(val_params, fp)\n",
    "  \n",
    "  return episode_lengths, avg_tde\n",
    " \n",
    "\n",
    "  "
   ]
  },
  {
   "cell_type": "code",
   "execution_count": 121,
   "metadata": {},
   "outputs": [],
   "source": [
    "def plot_figure(episode_lengths, avg_tde):\n",
    "  plt.figure()\n",
    "  plt.plot(episode_lengths,'b')\n",
    "  plt.xlabel('episode/interval')\n",
    "  plt.ylabel('length')\n",
    "  plt.grid()\n",
    "  \n",
    "  plt.figure()\n",
    "  plt.plot(avg_tde,'r')\n",
    "  plt.xlabel('episode/interval')\n",
    "  plt.ylabel('TD-error')\n",
    "  plt.grid()"
   ]
  },
  {
   "cell_type": "code",
   "execution_count": 122,
   "metadata": {},
   "outputs": [],
   "source": [
    "def test(episodes, render=False):\n",
    "  GAMMA = 0.95\n",
    "  # load parameters\n",
    "  with open('actor_param.pickle','rb') as fp:\n",
    "    actor_params = pkl.load(fp)\n",
    "  with open('critic_param.pickle','rb') as fp:\n",
    "    critic_params = pkl.load(fp)\n",
    "  \n",
    "  # create actor and critic\n",
    "  actor = hk.without_apply_rng(hk.transform(policy_fn))\n",
    "  critic = hk.without_apply_rng(hk.transform(val_fn))\n",
    "  \n",
    "  rng = hk.PRNGSequence(0)\n",
    "  \n",
    "  def act(obs, rng):\n",
    "    logits = actor.apply(actor_params, obs)\n",
    "    return random.categorical(rng, logits=logits).item()\n",
    "  \n",
    "  def pred(obs):\n",
    "    return critic.apply(critic_params, obs).item()\n",
    "  # make environment\n",
    "  env = gym.make('CartPole-v0')\n",
    "  env.seed(0)\n",
    "  \n",
    "  eps_lengths = []\n",
    "  avg_tdes = []\n",
    "  for eps in range(episodes):\n",
    "    o_t = jnp.array(env.reset())\n",
    "    done = False\n",
    "    num_steps = 0\n",
    "    total_tde = 0\n",
    "    while not done:\n",
    "      action = act(o_t, rng.next())\n",
    "      \n",
    "      o_tp1, reward, done, _ = env.step(action)\n",
    "      num_steps += 1\n",
    "      \n",
    "      if render:\n",
    "        env.render()\n",
    "      \n",
    "      total_tde += reward + GAMMA*pred(o_tp1) - pred(o_t)\n",
    "      \n",
    "      o_t = o_tp1\n",
    "      \n",
    "    \n",
    "    eps_lengths.append(num_steps)\n",
    "    avg_tdes.append(total_tde/num_steps)\n",
    "  \n",
    "  env.close()\n",
    "  return eps_lengths, avg_tdes"
   ]
  },
  {
   "cell_type": "code",
   "execution_count": 123,
   "metadata": {},
   "outputs": [],
   "source": [
    "def main():\n",
    "  eps_len, avg_tde = train()\n",
    "  plot_figure(eps_len, avg_tde)\n",
    "#   eps_len, avg_tde = test(100)\n",
    "#   plot_figure(eps_len, avg_tde)"
   ]
  },
  {
   "cell_type": "code",
   "execution_count": 124,
   "metadata": {},
   "outputs": [
    {
     "name": "stderr",
     "output_type": "stream",
     "text": [
      "100%|███████████████████████████████████████| 1000/1000 [01:23<00:00, 11.92it/s]\n"
     ]
    },
    {
     "data": {
      "image/png": "[encoded data removed]",
      "text/plain": [
       "<Figure size 432x288 with 1 Axes>"
      ]
     },
     "metadata": {
      "needs_background": "light"
     },
     "output_type": "display_data"
    },
    {
     "data": {
      "image/png": "[encoded data removed]",
      "text/plain": [
       "<Figure size 432x288 with 1 Axes>"
      ]
     },
     "metadata": {
      "needs_background": "light"
     },
     "output_type": "display_data"
    }
   ],
   "source": [
    "main()"
   ]
  },
  {
   "cell_type": "code",
   "execution_count": null,
   "metadata": {},
   "outputs": [],
   "source": []
  }
 ],
 "metadata": {
  "colab": {
   "name": "Actor-Critic.ipynb",
   "provenance": []
  },
  "kernelspec": {
   "display_name": "Python 3 (ipykernel)",
   "language": "python",
   "name": "python3"
  },
  "language_info": {
   "codemirror_mode": {
    "name": "ipython",
    "version": 3
   },
   "file_extension": ".py",
   "mimetype": "text/x-python",
   "name": "python",
   "nbconvert_exporter": "python",
   "pygments_lexer": "ipython3",
   "version": "3.9.7"
  }
 },
 "nbformat": 4,
 "nbformat_minor": 1
}
